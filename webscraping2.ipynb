{
  "nbformat": 4,
  "nbformat_minor": 0,
  "metadata": {
    "colab": {
      "name": "webscraping2.ipynb",
      "provenance": [],
      "collapsed_sections": []
    },
    "kernelspec": {
      "name": "python3",
      "display_name": "Python 3"
    },
    "language_info": {
      "name": "python"
    }
  },
  "cells": [
    {
      "cell_type": "code",
      "metadata": {
        "colab": {
          "base_uri": "https://localhost:8080/"
        },
        "id": "PCSI_cDg9bu0",
        "outputId": "d12f8b6c-3e1b-499d-e566-a2360c9248e4"
      },
      "source": [
        "# This example checks to see if we have bs4 installed and will return a boolean.\n",
        "import sys\n",
        "'bs4' in sys.modules\n",
        "# install libraries\n",
        "!pip install requests\n",
        "!pip install lxml\n",
        "!pip install bs4\n",
        "# start by importing our libraries\n",
        "import requests\n",
        "import bs4\n",
        "#creating and testing a base URL\n",
        "base_url = \"http://books.toscrape.com/catalogue/page-{}.html\"\n",
        "base_url.format('20')\n",
        "# start by initiating an empty list that will hold our output.\n",
        "one_star_titles = []\n",
        "# Now iterate to get info from each page.\n",
        "# We want to include page 5, so index should go up to, but not include 6,\n",
        "for n in range (1,6):\n",
        "  scrape_url = base_url.format(n)\n",
        "  res = requests.get(scrape_url) #Make our request\n",
        "  soup = bs4.BeautifulSoup(res.text,'lxml') #Create our soup\n",
        "  books = soup.select(\".product_pod\") #select the product pod class\n",
        "  # within our loop, we'll create another loop to parse the books and select star rating one.\n",
        "  for book in books:\n",
        "    if len(book.select('.star-rating.One')) != 0: # if the list is not empty, then we do have a one star book.\n",
        "      book_title = book.select('a')[1]['title']\n",
        "      one_star_titles.append(book_title)\n",
        "      # Running this should give us our list\n",
        "one_star_titles"
      ],
      "execution_count": 3,
      "outputs": [
        {
          "output_type": "stream",
          "text": [
            "Requirement already satisfied: requests in /usr/local/lib/python3.7/dist-packages (2.23.0)\n",
            "Requirement already satisfied: urllib3!=1.25.0,!=1.25.1,<1.26,>=1.21.1 in /usr/local/lib/python3.7/dist-packages (from requests) (1.24.3)\n",
            "Requirement already satisfied: idna<3,>=2.5 in /usr/local/lib/python3.7/dist-packages (from requests) (2.10)\n",
            "Requirement already satisfied: chardet<4,>=3.0.2 in /usr/local/lib/python3.7/dist-packages (from requests) (3.0.4)\n",
            "Requirement already satisfied: certifi>=2017.4.17 in /usr/local/lib/python3.7/dist-packages (from requests) (2020.12.5)\n",
            "Requirement already satisfied: lxml in /usr/local/lib/python3.7/dist-packages (4.2.6)\n",
            "Requirement already satisfied: bs4 in /usr/local/lib/python3.7/dist-packages (0.0.1)\n",
            "Requirement already satisfied: beautifulsoup4 in /usr/local/lib/python3.7/dist-packages (from bs4) (4.6.3)\n"
          ],
          "name": "stdout"
        },
        {
          "output_type": "execute_result",
          "data": {
            "text/plain": [
              "['Tipping the Velvet',\n",
              " 'Soumission',\n",
              " 'The Requiem Red',\n",
              " 'The Black Maria',\n",
              " 'Olio',\n",
              " 'Mesaerion: The Best Science Fiction Stories 1800-1849',\n",
              " 'In Her Wake',\n",
              " 'The Bear and the Piano',\n",
              " 'In a Dark, Dark Wood',\n",
              " 'When We Collided',\n",
              " 'Unbound: How Eight Technologies Made Us Human, Transformed Society, and Brought Our World to the Brink',\n",
              " 'Tsubasa: WoRLD CHRoNiCLE 2 (Tsubasa WoRLD CHRoNiCLE #2)',\n",
              " 'The Torch Is Passed: A Harding Family Story',\n",
              " 'The Secret of Dreadwillow Carse',\n",
              " 'The Pioneer Woman Cooks: Dinnertime: Comfort Classics, Freezer Food, 16-Minute Meals, and Other Delicious Ways to Solve Supper!',\n",
              " 'The Gutsy Girl: Escapades for Your Life of Epic Adventure',\n",
              " 'The Electric Pencil: Drawings from Inside State Hospital No. 3',\n",
              " 'The Age of Genius: The Seventeenth Century and the Birth of the Modern Mind',\n",
              " 'Pop Gun War, Volume 1: Gift',\n",
              " 'orange: The Complete Collection 1 (orange: The Complete Collection #1)',\n",
              " 'Online Marketing for Busy Authors: A Step-By-Step Guide',\n",
              " 'Layered: Baking, Building, and Styling Spectacular Cakes']"
            ]
          },
          "metadata": {
            "tags": []
          },
          "execution_count": 3
        }
      ]
    }
  ]
}